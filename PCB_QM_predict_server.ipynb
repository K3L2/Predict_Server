{
 "cells": [
  {
   "cell_type": "code",
   "execution_count": 10,
   "metadata": {
    "colab": {
     "base_uri": "https://localhost:8080/"
    },
    "executionInfo": {
     "elapsed": 15075,
     "status": "ok",
     "timestamp": 1720422921244,
     "user": {
      "displayName": "김남현",
      "userId": "10607180765716714100"
     },
     "user_tz": -540
    },
    "id": "lkj5aPAVMHGp",
    "outputId": "6c81c1bf-a562-473f-cc4f-ca9530daec10",
    "scrolled": true
   },
   "outputs": [
    {
     "name": "stdout",
     "output_type": "stream",
     "text": [
      "Requirement already satisfied: uvicorn in c:\\users\\asus\\appdata\\local\\programs\\python\\python310\\lib\\site-packages (0.23.2)\n",
      "Requirement already satisfied: fastapi in c:\\users\\asus\\appdata\\local\\programs\\python\\python310\\lib\\site-packages (0.103.2)\n",
      "Collecting pyngrok\n",
      "  Downloading pyngrok-7.1.6-py3-none-any.whl.metadata (7.4 kB)\n",
      "Requirement already satisfied: click>=7.0 in c:\\users\\asus\\appdata\\local\\programs\\python\\python310\\lib\\site-packages (from uvicorn) (8.1.3)\n",
      "Requirement already satisfied: h11>=0.8 in c:\\users\\asus\\appdata\\local\\programs\\python\\python310\\lib\\site-packages (from uvicorn) (0.14.0)\n",
      "Requirement already satisfied: typing-extensions>=4.0 in c:\\users\\asus\\appdata\\local\\programs\\python\\python310\\lib\\site-packages (from uvicorn) (4.8.0)\n",
      "Requirement already satisfied: anyio<4.0.0,>=3.7.1 in c:\\users\\asus\\appdata\\local\\programs\\python\\python310\\lib\\site-packages (from fastapi) (3.7.1)\n",
      "Requirement already satisfied: pydantic!=1.8,!=1.8.1,!=2.0.0,!=2.0.1,!=2.1.0,<3.0.0,>=1.7.4 in c:\\users\\asus\\appdata\\local\\programs\\python\\python310\\lib\\site-packages (from fastapi) (2.4.2)\n",
      "Requirement already satisfied: starlette<0.28.0,>=0.27.0 in c:\\users\\asus\\appdata\\local\\programs\\python\\python310\\lib\\site-packages (from fastapi) (0.27.0)\n",
      "Requirement already satisfied: PyYAML>=5.1 in c:\\users\\asus\\appdata\\local\\programs\\python\\python310\\lib\\site-packages (from pyngrok) (6.0)\n",
      "Requirement already satisfied: idna>=2.8 in c:\\users\\asus\\appdata\\local\\programs\\python\\python310\\lib\\site-packages (from anyio<4.0.0,>=3.7.1->fastapi) (3.4)\n",
      "Requirement already satisfied: sniffio>=1.1 in c:\\users\\asus\\appdata\\local\\programs\\python\\python310\\lib\\site-packages (from anyio<4.0.0,>=3.7.1->fastapi) (1.3.0)\n",
      "Requirement already satisfied: exceptiongroup in c:\\users\\asus\\appdata\\local\\programs\\python\\python310\\lib\\site-packages (from anyio<4.0.0,>=3.7.1->fastapi) (1.1.3)\n",
      "Requirement already satisfied: colorama in c:\\users\\asus\\appdata\\local\\programs\\python\\python310\\lib\\site-packages (from click>=7.0->uvicorn) (0.4.6)\n",
      "Requirement already satisfied: annotated-types>=0.4.0 in c:\\users\\asus\\appdata\\local\\programs\\python\\python310\\lib\\site-packages (from pydantic!=1.8,!=1.8.1,!=2.0.0,!=2.0.1,!=2.1.0,<3.0.0,>=1.7.4->fastapi) (0.5.0)\n",
      "Requirement already satisfied: pydantic-core==2.10.1 in c:\\users\\asus\\appdata\\local\\programs\\python\\python310\\lib\\site-packages (from pydantic!=1.8,!=1.8.1,!=2.0.0,!=2.0.1,!=2.1.0,<3.0.0,>=1.7.4->fastapi) (2.10.1)\n",
      "Downloading pyngrok-7.1.6-py3-none-any.whl (22 kB)\n",
      "Installing collected packages: pyngrok\n",
      "Successfully installed pyngrok-7.1.6\n"
     ]
    },
    {
     "name": "stderr",
     "output_type": "stream",
     "text": [
      "\n",
      "[notice] A new release of pip is available: 24.1.1 -> 24.1.2\n",
      "[notice] To update, run: python.exe -m pip install --upgrade pip\n"
     ]
    }
   ],
   "source": [
    "#!pip3 install uvicorn fastapi pyngrok"
   ]
  },
  {
   "cell_type": "code",
   "execution_count": 1,
   "metadata": {
    "executionInfo": {
     "elapsed": 2656,
     "status": "ok",
     "timestamp": 1720422923898,
     "user": {
      "displayName": "김남현",
      "userId": "10607180765716714100"
     },
     "user_tz": -540
    },
    "id": "LkhCrJhRkKf-"
   },
   "outputs": [
    {
     "name": "stdout",
     "output_type": "stream",
     "text": [
      "WARNING:tensorflow:From C:\\Users\\ASUS\\AppData\\Local\\Programs\\Python\\Python310\\lib\\site-packages\\keras\\src\\losses.py:2976: The name tf.losses.sparse_softmax_cross_entropy is deprecated. Please use tf.compat.v1.losses.sparse_softmax_cross_entropy instead.\n",
      "\n"
     ]
    }
   ],
   "source": [
    "# 서버 관리용 fastapi 의존 라이브러리\n",
    "import uvicorn\n",
    "\n",
    "# fastapi 라이브러리\n",
    "from fastapi import FastAPI\n",
    "from fastapi.staticfiles import StaticFiles\n",
    "from fastapi import File, UploadFile\n",
    "from fastapi.responses import JSONResponse, HTMLResponse\n",
    "\n",
    "\n",
    "# 인터페이스 데이터 관리를 위한 라이브러리\n",
    "from pydantic import BaseModel\n",
    "\n",
    "# 모델 Load 용 라이브러리\n",
    "import PCB_Product_Model\n",
    "import PCB_Defect_Model\n",
    "\n",
    "# 데이터 분석용 라이브러리\n",
    "import pandas as pd\n",
    "import numpy as np\n",
    "import os\n",
    "import cv2\n",
    "from ultralytics import YOLO\n",
    "\n",
    "# ngrok을 활용하여 분석서버를 Global하게 띄우기 위한 라이브러리\n",
    "import nest_asyncio\n",
    "from pyngrok import ngrok\n",
    "import uvicorn"
   ]
  },
  {
   "cell_type": "code",
   "execution_count": 7,
   "metadata": {
    "executionInfo": {
     "elapsed": 2,
     "status": "ok",
     "timestamp": 1720422923898,
     "user": {
      "displayName": "김남현",
      "userId": "10607180765716714100"
     },
     "user_tz": -540
    },
    "id": "rSMA9xfDrcbd"
   },
   "outputs": [],
   "source": [
    "# CORS issue 때문에 미들웨어 추가\n",
    "\n",
    "from fastapi.middleware.cors import CORSMiddleware\n",
    "origins = [\"*\"]\n",
    "\n",
    "app = FastAPI(title=\"ML API\")\n",
    "\n",
    "# CORS 미들웨어 추가\n",
    "app.add_middleware(\n",
    "    CORSMiddleware,\n",
    "    allow_origins=[\"*\"],  # 모든 origin 허용\n",
    "    allow_credentials=True,\n",
    "    allow_methods=[\"GET\", \"POST\", \"PUT\", \"DELETE\"],\n",
    "    allow_headers=[\"*\"],\n",
    ")"
   ]
  },
  {
   "cell_type": "markdown",
   "metadata": {
    "id": "X7kOA9CZkM4g"
   },
   "source": [
    "### 1. 모델 불러오기"
   ]
  },
  {
   "cell_type": "code",
   "execution_count": 2,
   "metadata": {},
   "outputs": [],
   "source": [
    "# 제품 분류 모델 (CNN)"
   ]
  },
  {
   "cell_type": "code",
   "execution_count": 3,
   "metadata": {},
   "outputs": [
    {
     "name": "stdout",
     "output_type": "stream",
     "text": [
      "WARNING:tensorflow:From C:\\Users\\ASUS\\AppData\\Local\\Programs\\Python\\Python310\\lib\\site-packages\\keras\\src\\backend.py:1398: The name tf.executing_eagerly_outside_functions is deprecated. Please use tf.compat.v1.executing_eagerly_outside_functions instead.\n",
      "\n",
      "WARNING:tensorflow:From C:\\Users\\ASUS\\AppData\\Local\\Programs\\Python\\Python310\\lib\\site-packages\\keras\\src\\layers\\pooling\\max_pooling2d.py:161: The name tf.nn.max_pool is deprecated. Please use tf.nn.max_pool2d instead.\n",
      "\n"
     ]
    }
   ],
   "source": [
    "model_path = 'pcb_prod_model_0708.h5'\n",
    "class_path = 'pcb_class_dict_0708.json'\n",
    "\n",
    "pcb_prod_model = PCB_Product_Model.Model_load(model_path, class_path)\n"
   ]
  },
  {
   "cell_type": "code",
   "execution_count": 4,
   "metadata": {},
   "outputs": [],
   "source": [
    "# 제품 양불 판정 모델 (YOLO)"
   ]
  },
  {
   "cell_type": "code",
   "execution_count": 5,
   "metadata": {},
   "outputs": [],
   "source": [
    "model_pt_path = 'best.pt'\n",
    "pcb_defect_model = PCB_Defect_Model.Model_load(model_pt_path)"
   ]
  },
  {
   "cell_type": "markdown",
   "metadata": {
    "id": "HH9_RewykyM4"
   },
   "source": [
    "### 2. 예측 시뮬레이션"
   ]
  },
  {
   "cell_type": "code",
   "execution_count": 8,
   "metadata": {
    "executionInfo": {
     "elapsed": 341,
     "status": "ok",
     "timestamp": 1720422972709,
     "user": {
      "displayName": "김남현",
      "userId": "10607180765716714100"
     },
     "user_tz": -540
    },
    "id": "q5QWGuajczZH"
   },
   "outputs": [],
   "source": [
    "@app.get('/')\n",
    "async def load_main():\n",
    "    return FileResponse('index.html')\n",
    "    \n",
    "\n",
    "@app.post(\"/predict\")\n",
    "async def upload_image(file: UploadFile = File(...)):\n",
    "\n",
    "    contents = await file.read()\n",
    "\n",
    "    # 이미지 읽기\n",
    "    nparr = np.frombuffer(contents, np.uint8)\n",
    "    img = cv2.imdecode(nparr, cv2.IMREAD_COLOR)\n",
    "    \n",
    "    prod_type = pcb_prod_model.predict_image(False, img)\n",
    "\n",
    "    prod_defect_dict = pcb_defect_model.predict_defect(img)\n",
    "\n",
    "    error_type_list = prod_defect_dict['defect_name_list']\n",
    "    defect_box_list = prod_defect_dict['image']\n",
    "    \n",
    "    # img_str = ndarray_to_base64(defect_image)\n",
    "    \n",
    "    result = {\n",
    "        \"product_type\": prod_type,\n",
    "        \"error_type_list\": error_type_list,\n",
    "        \"image\": defect_box_list\n",
    "    }\n",
    "\n",
    "    return result\n"
   ]
  },
  {
   "cell_type": "markdown",
   "metadata": {
    "id": "GF25nq1yk12s"
   },
   "source": [
    "### 3."
   ]
  },
  {
   "cell_type": "code",
   "execution_count": null,
   "metadata": {
    "colab": {
     "base_uri": "https://localhost:8080/",
     "height": 553
    },
    "executionInfo": {
     "elapsed": 109256,
     "status": "error",
     "timestamp": 1720423220001,
     "user": {
      "displayName": "김남현",
      "userId": "10607180765716714100"
     },
     "user_tz": -540
    },
    "id": "oFDry0rx2CtP",
    "outputId": "5f17ce84-8bc3-4478-d3d8-e650f299cea9"
   },
   "outputs": [
    {
     "name": "stdout",
     "output_type": "stream",
     "text": [
      "공용 URL https://c1e1-118-34-210-68.ngrok-free.app\n"
     ]
    },
    {
     "name": "stderr",
     "output_type": "stream",
     "text": [
      "INFO:     Started server process [22204]\n",
      "INFO:     Waiting for application startup.\n",
      "INFO:     Application startup complete.\n",
      "INFO:     Uvicorn running on http://127.0.0.1:8000 (Press CTRL+C to quit)\n"
     ]
    },
    {
     "name": "stdout",
     "output_type": "stream",
     "text": [
      "INFO:     211.231.103.92:0 - \"GET /predict HTTP/1.1\" 405 Method Not Allowed\n",
      "INFO:     211.231.103.107:0 - \"GET /predict HTTP/1.1\" 405 Method Not Allowed\n",
      "1/1 [==============================] - 0s 203ms/step\n",
      "\n",
      "0: 352x640 1 short, 212.8ms\n",
      "Speed: 6.4ms preprocess, 212.8ms inference, 3.5ms postprocess per image at shape (1, 3, 352, 640)\n",
      "Results saved to \u001b[1mruns\\detect\\predict7\u001b[0m\n",
      "\n",
      "0: 352x640 1 short, 181.7ms\n",
      "Speed: 4.4ms preprocess, 181.7ms inference, 1.5ms postprocess per image at shape (1, 3, 352, 640)\n",
      "\n",
      "0: 352x640 1 short, 165.1ms\n",
      "Speed: 4.3ms preprocess, 165.1ms inference, 1.0ms postprocess per image at shape (1, 3, 352, 640)\n",
      "INFO:     118.34.210.65:0 - \"POST /predict HTTP/1.1\" 200 OK\n",
      "1/1 [==============================] - 0s 64ms/step\n",
      "\n",
      "0: 352x640 1 short, 187.3ms\n",
      "Speed: 5.0ms preprocess, 187.3ms inference, 2.0ms postprocess per image at shape (1, 3, 352, 640)\n",
      "Results saved to \u001b[1mruns\\detect\\predict7\u001b[0m\n",
      "\n",
      "0: 352x640 1 short, 194.9ms\n",
      "Speed: 5.3ms preprocess, 194.9ms inference, 1.0ms postprocess per image at shape (1, 3, 352, 640)\n",
      "\n",
      "0: 352x640 1 short, 178.8ms\n",
      "Speed: 3.6ms preprocess, 178.8ms inference, 1.0ms postprocess per image at shape (1, 3, 352, 640)\n",
      "INFO:     118.34.210.65:0 - \"POST /predict HTTP/1.1\" 200 OK\n",
      "INFO:     211.231.103.93:0 - \"GET /predict HTTP/1.1\" 405 Method Not Allowed\n",
      "1/1 [==============================] - 0s 51ms/step\n",
      "\n",
      "0: 352x640 1 short, 149.0ms\n",
      "Speed: 7.3ms preprocess, 149.0ms inference, 3.0ms postprocess per image at shape (1, 3, 352, 640)\n",
      "Results saved to \u001b[1mruns\\detect\\predict7\u001b[0m\n",
      "\n",
      "0: 352x640 1 short, 100.8ms\n",
      "Speed: 2.0ms preprocess, 100.8ms inference, 1.0ms postprocess per image at shape (1, 3, 352, 640)\n",
      "\n",
      "0: 352x640 1 short, 101.6ms\n",
      "Speed: 2.2ms preprocess, 101.6ms inference, 1.0ms postprocess per image at shape (1, 3, 352, 640)\n",
      "INFO:     118.34.210.65:0 - \"POST /predict HTTP/1.1\" 200 OK\n"
     ]
    },
    {
     "name": "stderr",
     "output_type": "stream",
     "text": [
      "t=2024-07-16T14:00:12+0900 lvl=eror msg=\"heartbeat timeout, terminating session\" obj=tunnels.session obj=csess id=942087a1ae4b clientid=1d140dc6d467b9bb619f6d135b657457\n",
      "t=2024-07-16T14:00:12+0900 lvl=eror msg=\"session closed, starting reconnect loop\" obj=tunnels.session obj=csess id=b55210c961a2 err=\"read tcp 172.16.248.191:56127->3.133.228.214:443: wsarecv: An established connection was aborted by the software in your host machine.\"\n",
      "t=2024-07-16T14:00:12+0900 lvl=eror msg=\"failed to reconnect session\" obj=tunnels.session err=\"failed to dial ngrok server with address \\\"connect.us.ngrok-agent.com:443\\\": dial tcp: lookup connect.us.ngrok-agent.com: no such host\"\n",
      "t=2024-07-16T14:00:13+0900 lvl=eror msg=\"failed to reconnect session\" obj=tunnels.session err=\"failed to dial ngrok server with address \\\"connect.us.ngrok-agent.com:443\\\": dial tcp: lookup connect.us.ngrok-agent.com: no such host\"\n",
      "t=2024-07-16T14:00:14+0900 lvl=eror msg=\"failed to reconnect session\" obj=tunnels.session err=\"failed to dial ngrok server with address \\\"connect.us.ngrok-agent.com:443\\\": dial tcp: lookup connect.us.ngrok-agent.com: no such host\"\n",
      "t=2024-07-16T14:00:16+0900 lvl=eror msg=\"failed to reconnect session\" obj=tunnels.session err=\"failed to dial ngrok server with address \\\"connect.us.ngrok-agent.com:443\\\": dial tcp: lookup connect.us.ngrok-agent.com: no such host\"\n",
      "t=2024-07-16T14:00:20+0900 lvl=eror msg=\"failed to reconnect session\" obj=tunnels.session err=\"failed to dial ngrok server with address \\\"connect.us.ngrok-agent.com:443\\\": dial tcp: lookup connect.us.ngrok-agent.com: no such host\"\n"
     ]
    },
    {
     "name": "stdout",
     "output_type": "stream",
     "text": [
      "1/1 [==============================] - 0s 85ms/step\n",
      "\n",
      "0: 352x640 1 short, 222.0ms\n",
      "Speed: 6.6ms preprocess, 222.0ms inference, 8.6ms postprocess per image at shape (1, 3, 352, 640)\n",
      "Results saved to \u001b[1mruns\\detect\\predict7\u001b[0m\n",
      "\n",
      "0: 352x640 1 short, 169.8ms\n",
      "Speed: 4.7ms preprocess, 169.8ms inference, 1.0ms postprocess per image at shape (1, 3, 352, 640)\n",
      "\n",
      "0: 352x640 1 short, 159.0ms\n",
      "Speed: 3.0ms preprocess, 159.0ms inference, 0.0ms postprocess per image at shape (1, 3, 352, 640)\n",
      "INFO:     118.34.210.65:0 - \"POST /predict HTTP/1.1\" 200 OK\n",
      "1/1 [==============================] - 0s 73ms/step\n",
      "\n",
      "0: 352x640 1 short, 178.9ms\n",
      "Speed: 3.5ms preprocess, 178.9ms inference, 2.1ms postprocess per image at shape (1, 3, 352, 640)\n",
      "Results saved to \u001b[1mruns\\detect\\predict7\u001b[0m\n",
      "\n",
      "0: 352x640 1 short, 199.2ms\n",
      "Speed: 5.7ms preprocess, 199.2ms inference, 1.4ms postprocess per image at shape (1, 3, 352, 640)\n",
      "\n",
      "0: 352x640 1 short, 176.8ms\n",
      "Speed: 3.0ms preprocess, 176.8ms inference, 1.0ms postprocess per image at shape (1, 3, 352, 640)\n",
      "INFO:     118.34.210.65:0 - \"POST /predict HTTP/1.1\" 200 OK\n",
      "1/1 [==============================] - 0s 65ms/step\n",
      "\n",
      "0: 352x640 1 short, 169.3ms\n",
      "Speed: 11.8ms preprocess, 169.3ms inference, 2.0ms postprocess per image at shape (1, 3, 352, 640)\n",
      "Results saved to \u001b[1mruns\\detect\\predict7\u001b[0m\n",
      "\n",
      "0: 352x640 1 short, 164.1ms\n",
      "Speed: 5.0ms preprocess, 164.1ms inference, 1.0ms postprocess per image at shape (1, 3, 352, 640)\n",
      "\n",
      "0: 352x640 1 short, 152.8ms\n",
      "Speed: 2.0ms preprocess, 152.8ms inference, 1.0ms postprocess per image at shape (1, 3, 352, 640)\n",
      "INFO:     118.34.210.65:0 - \"POST /predict HTTP/1.1\" 200 OK\n",
      "1/1 [==============================] - 0s 72ms/step\n",
      "\n",
      "0: 352x640 3 shorts, 168.0ms\n",
      "Speed: 4.5ms preprocess, 168.0ms inference, 2.3ms postprocess per image at shape (1, 3, 352, 640)\n",
      "Results saved to \u001b[1mruns\\detect\\predict7\u001b[0m\n",
      "\n",
      "0: 352x640 3 shorts, 169.8ms\n",
      "Speed: 6.9ms preprocess, 169.8ms inference, 1.0ms postprocess per image at shape (1, 3, 352, 640)\n",
      "\n",
      "0: 352x640 3 shorts, 164.6ms\n",
      "Speed: 4.1ms preprocess, 164.6ms inference, 1.0ms postprocess per image at shape (1, 3, 352, 640)\n",
      "INFO:     118.34.210.65:0 - \"POST /predict HTTP/1.1\" 200 OK\n",
      "1/1 [==============================] - 0s 32ms/step\n",
      "\n",
      "0: 352x640 1 short, 105.9ms\n",
      "Speed: 2.3ms preprocess, 105.9ms inference, 2.0ms postprocess per image at shape (1, 3, 352, 640)\n",
      "Results saved to \u001b[1mruns\\detect\\predict7\u001b[0m\n",
      "\n",
      "0: 352x640 1 short, 93.7ms\n",
      "Speed: 2.0ms preprocess, 93.7ms inference, 1.0ms postprocess per image at shape (1, 3, 352, 640)\n",
      "\n",
      "0: 352x640 1 short, 93.6ms\n",
      "Speed: 2.0ms preprocess, 93.6ms inference, 0.5ms postprocess per image at shape (1, 3, 352, 640)\n",
      "INFO:     118.34.210.65:0 - \"POST /predict HTTP/1.1\" 200 OK\n",
      "INFO:     27.0.238.116:0 - \"GET /predict HTTP/1.1\" 405 Method Not Allowed\n",
      "INFO:     27.0.238.70:0 - \"GET /predict HTTP/1.1\" 405 Method Not Allowed\n",
      "INFO:     27.0.238.187:0 - \"GET /predict HTTP/1.1\" 405 Method Not Allowed\n"
     ]
    },
    {
     "name": "stderr",
     "output_type": "stream",
     "text": [
      "t=2024-07-16T17:37:09+0900 lvl=eror msg=\"heartbeat timeout, terminating session\" obj=tunnels.session obj=csess id=f2cc7e258f94 clientid=1d140dc6d467b9bb619f6d135b657457\n",
      "t=2024-07-16T17:37:09+0900 lvl=eror msg=\"session closed, starting reconnect loop\" obj=tunnels.session obj=csess id=b55210c961a2 err=\"session closed\"\n",
      "t=2024-07-16T18:21:05+0900 lvl=eror msg=\"heartbeat timeout, terminating session\" obj=tunnels.session obj=csess id=4fd398be2007 clientid=1d140dc6d467b9bb619f6d135b657457\n",
      "t=2024-07-16T18:21:05+0900 lvl=eror msg=\"session closed, starting reconnect loop\" obj=tunnels.session obj=csess id=b55210c961a2 err=\"read tcp 172.16.248.191:62029->3.134.73.173:443: wsarecv: An existing connection was forcibly closed by the remote host.\"\n",
      "t=2024-07-16T18:21:13+0900 lvl=eror msg=\"failed to reconnect session\" obj=tunnels.session err=\"failed to dial ngrok server with address \\\"connect.us.ngrok-agent.com:443\\\": dial tcp: lookup connect.us.ngrok-agent.com: no such host\"\n",
      "t=2024-07-16T19:23:25+0900 lvl=eror msg=\"failed to reconnect session\" obj=tunnels.session err=\"failed to dial ngrok server with address \\\"connect.us.ngrok-agent.com:443\\\": dial tcp: lookup connect.us.ngrok-agent.com: no such host\"\n",
      "t=2024-07-16T19:23:26+0900 lvl=eror msg=\"failed to reconnect session\" obj=tunnels.session err=\"failed to dial ngrok server with address \\\"connect.us.ngrok-agent.com:443\\\": dial tcp: lookup connect.us.ngrok-agent.com: no such host\"\n",
      "t=2024-07-16T22:44:55+0900 lvl=eror msg=\"heartbeat timeout, terminating session\" obj=tunnels.session obj=csess id=889207b11c23 clientid=1d140dc6d467b9bb619f6d135b657457\n",
      "t=2024-07-16T22:44:55+0900 lvl=eror msg=\"session closed, starting reconnect loop\" obj=tunnels.session obj=csess id=b55210c961a2 err=\"session closed\"\n",
      "t=2024-07-16T22:44:55+0900 lvl=eror msg=\"failed to reconnect session\" obj=tunnels.session err=\"failed to dial ngrok server with address \\\"connect.us.ngrok-agent.com:443\\\": dial tcp: lookup connect.us.ngrok-agent.com: no such host\"\n",
      "t=2024-07-16T22:44:56+0900 lvl=eror msg=\"failed to reconnect session\" obj=tunnels.session err=\"failed to dial ngrok server with address \\\"connect.us.ngrok-agent.com:443\\\": dial tcp: lookup connect.us.ngrok-agent.com: no such host\"\n",
      "t=2024-07-16T22:44:57+0900 lvl=eror msg=\"failed to reconnect session\" obj=tunnels.session err=\"failed to dial ngrok server with address \\\"connect.us.ngrok-agent.com:443\\\": dial tcp: lookup connect.us.ngrok-agent.com: no such host\"\n",
      "t=2024-07-16T22:44:59+0900 lvl=eror msg=\"failed to reconnect session\" obj=tunnels.session err=\"failed to dial ngrok server with address \\\"connect.us.ngrok-agent.com:443\\\": dial tcp: lookup connect.us.ngrok-agent.com: no such host\"\n",
      "t=2024-07-16T22:45:03+0900 lvl=eror msg=\"failed to reconnect session\" obj=tunnels.session err=\"failed to dial ngrok server with address \\\"connect.us.ngrok-agent.com:443\\\": dial tcp: lookup connect.us.ngrok-agent.com: no such host\"\n",
      "t=2024-07-16T22:45:11+0900 lvl=eror msg=\"failed to reconnect session\" obj=tunnels.session err=\"failed to dial ngrok server with address \\\"connect.us.ngrok-agent.com:443\\\": dial tcp: lookup connect.us.ngrok-agent.com: no such host\"\n",
      "t=2024-07-16T22:45:27+0900 lvl=eror msg=\"failed to reconnect session\" obj=tunnels.session err=\"failed to dial ngrok server with address \\\"connect.us.ngrok-agent.com:443\\\": dial tcp: lookup connect.us.ngrok-agent.com: no such host\"\n"
     ]
    },
    {
     "name": "stdout",
     "output_type": "stream",
     "text": [
      "INFO:     27.0.238.68:0 - \"GET /predict HTTP/1.1\" 405 Method Not Allowed\n",
      "INFO:     27.0.238.70:0 - \"GET /predict HTTP/1.1\" 405 Method Not Allowed\n"
     ]
    },
    {
     "name": "stderr",
     "output_type": "stream",
     "text": [
      "t=2024-07-17T02:40:08+0900 lvl=eror msg=\"heartbeat timeout, terminating session\" obj=tunnels.session obj=csess id=5ada9e891273 clientid=1d140dc6d467b9bb619f6d135b657457\n",
      "t=2024-07-17T02:40:08+0900 lvl=eror msg=\"session closed, starting reconnect loop\" obj=tunnels.session obj=csess id=b55210c961a2 err=\"session closed\"\n",
      "t=2024-07-17T05:02:19+0900 lvl=eror msg=\"heartbeat timeout, terminating session\" obj=tunnels.session obj=csess id=bfd390ea68fa clientid=1d140dc6d467b9bb619f6d135b657457\n",
      "t=2024-07-17T05:02:19+0900 lvl=eror msg=\"session closed, starting reconnect loop\" obj=tunnels.session obj=csess id=b55210c961a2 err=\"session closed\"\n",
      "t=2024-07-17T09:24:26+0900 lvl=eror msg=\"heartbeat timeout, terminating session\" obj=tunnels.session obj=csess id=78af368a2fb6 clientid=1d140dc6d467b9bb619f6d135b657457\n",
      "t=2024-07-17T09:24:26+0900 lvl=warn msg=\"failed to check for update\" obj=updater err=\"Post \\\"https://update.equinox.io/check\\\": dial tcp: lookup update.equinox.io: no such host\"\n",
      "t=2024-07-17T09:24:27+0900 lvl=eror msg=\"session closed, starting reconnect loop\" obj=tunnels.session obj=csess id=b55210c961a2 err=\"write tcp 172.30.1.24:58701->3.20.27.198:443: wsasend: An existing connection was forcibly closed by the remote host.\"\n",
      "t=2024-07-17T09:24:27+0900 lvl=eror msg=\"failed to reconnect session\" obj=tunnels.session err=\"failed to dial ngrok server with address \\\"connect.us.ngrok-agent.com:443\\\": dial tcp: lookup connect.us.ngrok-agent.com: no such host\"\n",
      "t=2024-07-17T09:24:27+0900 lvl=eror msg=\"failed to reconnect session\" obj=tunnels.session err=\"failed to dial ngrok server with address \\\"connect.us.ngrok-agent.com:443\\\": dial tcp: lookup connect.us.ngrok-agent.com: no such host\"\n",
      "t=2024-07-17T09:24:28+0900 lvl=eror msg=\"failed to reconnect session\" obj=tunnels.session err=\"failed to dial ngrok server with address \\\"connect.us.ngrok-agent.com:443\\\": dial tcp: lookup connect.us.ngrok-agent.com: no such host\"\n",
      "t=2024-07-17T09:24:30+0900 lvl=eror msg=\"failed to reconnect session\" obj=tunnels.session err=\"failed to dial ngrok server with address \\\"connect.us.ngrok-agent.com:443\\\": dial tcp: lookup connect.us.ngrok-agent.com: no such host\"\n",
      "t=2024-07-17T09:24:34+0900 lvl=eror msg=\"failed to reconnect session\" obj=tunnels.session err=\"failed to dial ngrok server with address \\\"connect.us.ngrok-agent.com:443\\\": dial tcp: lookup connect.us.ngrok-agent.com: no such host\"\n",
      "t=2024-07-17T11:16:59+0900 lvl=eror msg=\"failed to reconnect session\" obj=tunnels.session err=\"failed to dial ngrok server with address \\\"connect.us.ngrok-agent.com:443\\\": dial tcp: lookup connect.us.ngrok-agent.com: no such host\"\n",
      "t=2024-07-17T12:51:30+0900 lvl=eror msg=\"heartbeat timeout, terminating session\" obj=tunnels.session obj=csess id=5817f43bea11 clientid=1d140dc6d467b9bb619f6d135b657457\n",
      "t=2024-07-17T12:51:30+0900 lvl=eror msg=\"session closed, starting reconnect loop\" obj=tunnels.session obj=csess id=b55210c961a2 err=\"session closed\"\n",
      "t=2024-07-17T12:51:30+0900 lvl=eror msg=\"failed to reconnect session\" obj=tunnels.session err=\"failed to dial ngrok server with address \\\"connect.us.ngrok-agent.com:443\\\": dial tcp: lookup connect.us.ngrok-agent.com: no such host\"\n",
      "t=2024-07-17T12:51:31+0900 lvl=eror msg=\"failed to reconnect session\" obj=tunnels.session err=\"failed to dial ngrok server with address \\\"connect.us.ngrok-agent.com:443\\\": dial tcp: lookup connect.us.ngrok-agent.com: no such host\"\n",
      "t=2024-07-17T12:51:32+0900 lvl=eror msg=\"failed to reconnect session\" obj=tunnels.session err=\"failed to dial ngrok server with address \\\"connect.us.ngrok-agent.com:443\\\": dial tcp: lookup connect.us.ngrok-agent.com: no such host\"\n",
      "t=2024-07-17T13:26:01+0900 lvl=eror msg=\"heartbeat timeout, terminating session\" obj=tunnels.session obj=csess id=d262aaf23bb5 clientid=1d140dc6d467b9bb619f6d135b657457\n",
      "t=2024-07-17T13:26:01+0900 lvl=eror msg=\"session closed, starting reconnect loop\" obj=tunnels.session obj=csess id=b55210c961a2 err=\"session closed\"\n",
      "t=2024-07-17T13:43:03+0900 lvl=eror msg=\"heartbeat timeout, terminating session\" obj=tunnels.session obj=csess id=d4be0ca3a893 clientid=1d140dc6d467b9bb619f6d135b657457\n",
      "t=2024-07-17T13:43:03+0900 lvl=eror msg=\"session closed, starting reconnect loop\" obj=tunnels.session obj=csess id=b55210c961a2 err=\"write tcp 172.16.135.59:62862->3.136.132.147:443: wsasend: An existing connection was forcibly closed by the remote host.\"\n",
      "t=2024-07-17T13:44:43+0900 lvl=eror msg=\"heartbeat timeout, terminating session\" obj=tunnels.session obj=csess id=99543e0b287f clientid=1d140dc6d467b9bb619f6d135b657457\n",
      "t=2024-07-17T13:44:43+0900 lvl=eror msg=\"session closed, starting reconnect loop\" obj=tunnels.session obj=csess id=b55210c961a2 err=\"session closed\"\n",
      "t=2024-07-17T13:44:43+0900 lvl=eror msg=\"failed to reconnect session\" obj=tunnels.session err=\"failed to dial ngrok server with address \\\"connect.us.ngrok-agent.com:443\\\": dial tcp: lookup connect.us.ngrok-agent.com: no such host\"\n",
      "t=2024-07-17T13:44:43+0900 lvl=eror msg=\"failed to reconnect session\" obj=tunnels.session err=\"failed to dial ngrok server with address \\\"connect.us.ngrok-agent.com:443\\\": dial tcp: lookup connect.us.ngrok-agent.com: no such host\"\n",
      "t=2024-07-17T13:44:44+0900 lvl=eror msg=\"failed to reconnect session\" obj=tunnels.session err=\"failed to dial ngrok server with address \\\"connect.us.ngrok-agent.com:443\\\": dial tcp: lookup connect.us.ngrok-agent.com: no such host\"\n",
      "t=2024-07-17T13:44:47+0900 lvl=eror msg=\"failed to reconnect session\" obj=tunnels.session err=\"failed to dial ngrok server with address \\\"connect.us.ngrok-agent.com:443\\\": dial tcp: lookup connect.us.ngrok-agent.com: no such host\"\n",
      "t=2024-07-17T13:44:51+0900 lvl=eror msg=\"failed to reconnect session\" obj=tunnels.session err=\"failed to dial ngrok server with address \\\"connect.us.ngrok-agent.com:443\\\": dial tcp: lookup connect.us.ngrok-agent.com: no such host\"\n",
      "t=2024-07-17T14:20:31+0900 lvl=eror msg=\"session closed, starting reconnect loop\" obj=tunnels.session obj=csess id=b55210c961a2 err=\"read tcp 172.16.135.59:63159->3.133.228.214:443: wsarecv: An established connection was aborted by the software in your host machine.\"\n",
      "t=2024-07-17T14:20:32+0900 lvl=eror msg=\"failed to reconnect session\" obj=tunnels.session err=\"failed to dial ngrok server with address \\\"connect.us.ngrok-agent.com:443\\\": dial tcp: lookup connect.us.ngrok-agent.com: no such host\"\n",
      "t=2024-07-17T14:20:33+0900 lvl=eror msg=\"failed to reconnect session\" obj=tunnels.session err=\"authentication failed: Your account is limited to 1 simultaneous ngrok agent sessions.\\nYou can run multiple tunnels on a single agent session using a configuration file.\\nTo learn more, see https://ngrok.com/docs/secure-tunnels/ngrok-agent/reference/config/\\nYou can view your current agent sessions in the dashboard:\\nhttps://dashboard.ngrok.com/tunnels/agents\\r\\n\\r\\nERR_NGROK_108\\r\\n\"\n",
      "t=2024-07-17T14:20:35+0900 lvl=eror msg=\"failed to reconnect session\" obj=tunnels.session err=\"authentication failed: Your account is limited to 1 simultaneous ngrok agent sessions.\\nYou can run multiple tunnels on a single agent session using a configuration file.\\nTo learn more, see https://ngrok.com/docs/secure-tunnels/ngrok-agent/reference/config/\\nYou can view your current agent sessions in the dashboard:\\nhttps://dashboard.ngrok.com/tunnels/agents\\r\\n\\r\\nERR_NGROK_108\\r\\n\"\n",
      "t=2024-07-17T14:20:37+0900 lvl=eror msg=\"failed to reconnect session\" obj=tunnels.session err=\"authentication failed: Your account is limited to 1 simultaneous ngrok agent sessions.\\nYou can run multiple tunnels on a single agent session using a configuration file.\\nTo learn more, see https://ngrok.com/docs/secure-tunnels/ngrok-agent/reference/config/\\nYou can view your current agent sessions in the dashboard:\\nhttps://dashboard.ngrok.com/tunnels/agents\\r\\n\\r\\nERR_NGROK_108\\r\\n\"\n",
      "t=2024-07-17T14:20:42+0900 lvl=eror msg=\"failed to reconnect session\" obj=tunnels.session err=\"authentication failed: Your account is limited to 1 simultaneous ngrok agent sessions.\\nYou can run multiple tunnels on a single agent session using a configuration file.\\nTo learn more, see https://ngrok.com/docs/secure-tunnels/ngrok-agent/reference/config/\\nYou can view your current agent sessions in the dashboard:\\nhttps://dashboard.ngrok.com/tunnels/agents\\r\\n\\r\\nERR_NGROK_108\\r\\n\"\n",
      "t=2024-07-17T14:20:51+0900 lvl=eror msg=\"failed to reconnect session\" obj=tunnels.session err=\"authentication failed: Your account is limited to 1 simultaneous ngrok agent sessions.\\nYou can run multiple tunnels on a single agent session using a configuration file.\\nTo learn more, see https://ngrok.com/docs/secure-tunnels/ngrok-agent/reference/config/\\nYou can view your current agent sessions in the dashboard:\\nhttps://dashboard.ngrok.com/tunnels/agents\\r\\n\\r\\nERR_NGROK_108\\r\\n\"\n",
      "t=2024-07-17T14:20:54+0900 lvl=eror msg=\"heartbeat timeout, terminating session\" obj=tunnels.session obj=csess id=f21ccd47c737 clientid=1d140dc6d467b9bb619f6d135b657457\n",
      "t=2024-07-17T15:41:44+0900 lvl=eror msg=\"session closed, starting reconnect loop\" obj=tunnels.session obj=csess id=b55210c961a2 err=\"read tcp 172.20.10.3:50460->3.20.27.198:443: wsarecv: An established connection was aborted by the software in your host machine.\"\n",
      "t=2024-07-17T15:41:44+0900 lvl=eror msg=\"failed to reconnect session\" obj=tunnels.session err=\"failed to dial ngrok server with address \\\"connect.us.ngrok-agent.com:443\\\": dial tcp: lookup connect.us.ngrok-agent.com: no such host\"\n",
      "t=2024-07-17T15:41:45+0900 lvl=eror msg=\"failed to reconnect session\" obj=tunnels.session err=\"authentication failed: Your account is limited to 1 simultaneous ngrok agent sessions.\\nYou can run multiple tunnels on a single agent session using a configuration file.\\nTo learn more, see https://ngrok.com/docs/secure-tunnels/ngrok-agent/reference/config/\\nYou can view your current agent sessions in the dashboard:\\nhttps://dashboard.ngrok.com/tunnels/agents\\r\\n\\r\\nERR_NGROK_108\\r\\n\"\n",
      "t=2024-07-17T15:41:47+0900 lvl=eror msg=\"failed to reconnect session\" obj=tunnels.session err=\"authentication failed: Your account is limited to 1 simultaneous ngrok agent sessions.\\nYou can run multiple tunnels on a single agent session using a configuration file.\\nTo learn more, see https://ngrok.com/docs/secure-tunnels/ngrok-agent/reference/config/\\nYou can view your current agent sessions in the dashboard:\\nhttps://dashboard.ngrok.com/tunnels/agents\\r\\n\\r\\nERR_NGROK_108\\r\\n\"\n",
      "t=2024-07-17T15:41:49+0900 lvl=eror msg=\"failed to reconnect session\" obj=tunnels.session err=\"authentication failed: Your account is limited to 1 simultaneous ngrok agent sessions.\\nYou can run multiple tunnels on a single agent session using a configuration file.\\nTo learn more, see https://ngrok.com/docs/secure-tunnels/ngrok-agent/reference/config/\\nYou can view your current agent sessions in the dashboard:\\nhttps://dashboard.ngrok.com/tunnels/agents\\r\\n\\r\\nERR_NGROK_108\\r\\n\"\n",
      "t=2024-07-17T15:41:53+0900 lvl=eror msg=\"heartbeat timeout, terminating session\" obj=tunnels.session obj=csess id=c14b9731336b clientid=1d140dc6d467b9bb619f6d135b657457\n"
     ]
    }
   ],
   "source": [
    "# colab 서버 주소는 실행 될 때마다 바뀌기 때문에 ngrok이라는 것을 활용하여서 고정적인 url로 들어올 수 있는 서버를 만들 수 있다. 아래의 코드를 활용하면 된다.\n",
    "\n",
    "import nest_asyncio\n",
    "from pyngrok import ngrok\n",
    "import uvicorn\n",
    "\n",
    "AUTH_TOKEN = \"2hRkhpGbfhVbsBcpYewFZne3I4z_24P9h5EchPjzVTMJe6zEL\"\n",
    "ngrok.set_auth_token(AUTH_TOKEN)\n",
    "ngrokTunnel = ngrok.connect(8000)\n",
    "print(\"공용 URL\", ngrokTunnel.public_url)\n",
    "nest_asyncio.apply()\n",
    "uvicorn.run(app, port=8000)\n",
    "\n"
   ]
  },
  {
   "cell_type": "code",
   "execution_count": null,
   "metadata": {
    "id": "k26xEy3S2oDT"
   },
   "outputs": [],
   "source": []
  }
 ],
 "metadata": {
  "colab": {
   "authorship_tag": "ABX9TyP0VOvgB/vsJ2Q2rSR6/LHn",
   "provenance": [
    {
     "file_id": "1xSt4aprE5SLiMvPQ7-CWSwhxUwNq1F1a",
     "timestamp": 1719990813189
    },
    {
     "file_id": "1vGKCQiUncgJEKWP4TaNHUQr02KMkh_np",
     "timestamp": 1717561575433
    }
   ]
  },
  "kernelspec": {
   "display_name": "Python 3 (ipykernel)",
   "language": "python",
   "name": "python3"
  },
  "language_info": {
   "codemirror_mode": {
    "name": "ipython",
    "version": 3
   },
   "file_extension": ".py",
   "mimetype": "text/x-python",
   "name": "python",
   "nbconvert_exporter": "python",
   "pygments_lexer": "ipython3",
   "version": "3.10.4"
  }
 },
 "nbformat": 4,
 "nbformat_minor": 4
}
