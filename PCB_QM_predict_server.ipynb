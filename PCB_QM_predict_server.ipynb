{
 "cells": [
  {
   "cell_type": "code",
   "execution_count": 10,
   "metadata": {
    "colab": {
     "base_uri": "https://localhost:8080/"
    },
    "executionInfo": {
     "elapsed": 15075,
     "status": "ok",
     "timestamp": 1720422921244,
     "user": {
      "displayName": "김남현",
      "userId": "10607180765716714100"
     },
     "user_tz": -540
    },
    "id": "lkj5aPAVMHGp",
    "outputId": "6c81c1bf-a562-473f-cc4f-ca9530daec10",
    "scrolled": true
   },
   "outputs": [
    {
     "name": "stdout",
     "output_type": "stream",
     "text": [
      "Requirement already satisfied: uvicorn in c:\\users\\asus\\appdata\\local\\programs\\python\\python310\\lib\\site-packages (0.23.2)\n",
      "Requirement already satisfied: fastapi in c:\\users\\asus\\appdata\\local\\programs\\python\\python310\\lib\\site-packages (0.103.2)\n",
      "Collecting pyngrok\n",
      "  Downloading pyngrok-7.1.6-py3-none-any.whl.metadata (7.4 kB)\n",
      "Requirement already satisfied: click>=7.0 in c:\\users\\asus\\appdata\\local\\programs\\python\\python310\\lib\\site-packages (from uvicorn) (8.1.3)\n",
      "Requirement already satisfied: h11>=0.8 in c:\\users\\asus\\appdata\\local\\programs\\python\\python310\\lib\\site-packages (from uvicorn) (0.14.0)\n",
      "Requirement already satisfied: typing-extensions>=4.0 in c:\\users\\asus\\appdata\\local\\programs\\python\\python310\\lib\\site-packages (from uvicorn) (4.8.0)\n",
      "Requirement already satisfied: anyio<4.0.0,>=3.7.1 in c:\\users\\asus\\appdata\\local\\programs\\python\\python310\\lib\\site-packages (from fastapi) (3.7.1)\n",
      "Requirement already satisfied: pydantic!=1.8,!=1.8.1,!=2.0.0,!=2.0.1,!=2.1.0,<3.0.0,>=1.7.4 in c:\\users\\asus\\appdata\\local\\programs\\python\\python310\\lib\\site-packages (from fastapi) (2.4.2)\n",
      "Requirement already satisfied: starlette<0.28.0,>=0.27.0 in c:\\users\\asus\\appdata\\local\\programs\\python\\python310\\lib\\site-packages (from fastapi) (0.27.0)\n",
      "Requirement already satisfied: PyYAML>=5.1 in c:\\users\\asus\\appdata\\local\\programs\\python\\python310\\lib\\site-packages (from pyngrok) (6.0)\n",
      "Requirement already satisfied: idna>=2.8 in c:\\users\\asus\\appdata\\local\\programs\\python\\python310\\lib\\site-packages (from anyio<4.0.0,>=3.7.1->fastapi) (3.4)\n",
      "Requirement already satisfied: sniffio>=1.1 in c:\\users\\asus\\appdata\\local\\programs\\python\\python310\\lib\\site-packages (from anyio<4.0.0,>=3.7.1->fastapi) (1.3.0)\n",
      "Requirement already satisfied: exceptiongroup in c:\\users\\asus\\appdata\\local\\programs\\python\\python310\\lib\\site-packages (from anyio<4.0.0,>=3.7.1->fastapi) (1.1.3)\n",
      "Requirement already satisfied: colorama in c:\\users\\asus\\appdata\\local\\programs\\python\\python310\\lib\\site-packages (from click>=7.0->uvicorn) (0.4.6)\n",
      "Requirement already satisfied: annotated-types>=0.4.0 in c:\\users\\asus\\appdata\\local\\programs\\python\\python310\\lib\\site-packages (from pydantic!=1.8,!=1.8.1,!=2.0.0,!=2.0.1,!=2.1.0,<3.0.0,>=1.7.4->fastapi) (0.5.0)\n",
      "Requirement already satisfied: pydantic-core==2.10.1 in c:\\users\\asus\\appdata\\local\\programs\\python\\python310\\lib\\site-packages (from pydantic!=1.8,!=1.8.1,!=2.0.0,!=2.0.1,!=2.1.0,<3.0.0,>=1.7.4->fastapi) (2.10.1)\n",
      "Downloading pyngrok-7.1.6-py3-none-any.whl (22 kB)\n",
      "Installing collected packages: pyngrok\n",
      "Successfully installed pyngrok-7.1.6\n"
     ]
    },
    {
     "name": "stderr",
     "output_type": "stream",
     "text": [
      "\n",
      "[notice] A new release of pip is available: 24.1.1 -> 24.1.2\n",
      "[notice] To update, run: python.exe -m pip install --upgrade pip\n"
     ]
    }
   ],
   "source": [
    "#!pip3 install uvicorn fastapi pyngrok"
   ]
  },
  {
   "cell_type": "code",
   "execution_count": 11,
   "metadata": {
    "executionInfo": {
     "elapsed": 2656,
     "status": "ok",
     "timestamp": 1720422923898,
     "user": {
      "displayName": "김남현",
      "userId": "10607180765716714100"
     },
     "user_tz": -540
    },
    "id": "LkhCrJhRkKf-"
   },
   "outputs": [],
   "source": [
    "# 서버 관리용 fastapi 의존 라이브러리\n",
    "import uvicorn\n",
    "\n",
    "# fastapi 라이브러리\n",
    "from fastapi import FastAPI\n",
    "from fastapi.staticfiles import StaticFiles\n",
    "from fastapi import File, UploadFile\n",
    "from fastapi.responses import JSONResponse, HTMLResponse\n",
    "\n",
    "\n",
    "# 인터페이스 데이터 관리를 위한 라이브러리\n",
    "from pydantic import BaseModel\n",
    "\n",
    "# 모델 Load 용 라이브러리\n",
    "import PCB_Product_Model\n",
    "import PCB_Defect_Model\n",
    "\n",
    "# 데이터 분석용 라이브러리\n",
    "import pandas as pd\n",
    "import numpy as np\n",
    "import os\n",
    "import cv2\n",
    "from ultralytics import YOLO\n",
    "\n",
    "# ngrok을 활용하여 분석서버를 Global하게 띄우기 위한 라이브러리\n",
    "import nest_asyncio\n",
    "from pyngrok import ngrok\n",
    "import uvicorn"
   ]
  },
  {
   "cell_type": "code",
   "execution_count": 3,
   "metadata": {
    "executionInfo": {
     "elapsed": 2,
     "status": "ok",
     "timestamp": 1720422923898,
     "user": {
      "displayName": "김남현",
      "userId": "10607180765716714100"
     },
     "user_tz": -540
    },
    "id": "rSMA9xfDrcbd"
   },
   "outputs": [],
   "source": [
    "# CORS issue 때문에 미들웨어 추가\n",
    "\n",
    "from fastapi.middleware.cors import CORSMiddleware\n",
    "origins = [\"*\"]\n",
    "\n",
    "app = FastAPI(title=\"ML API\")\n",
    "\n",
    "# CORS 미들웨어 추가\n",
    "app.add_middleware(\n",
    "    CORSMiddleware,\n",
    "    allow_origins=[\"*\"],  # 모든 origin 허용\n",
    "    allow_credentials=True,\n",
    "    allow_methods=[\"GET\", \"POST\", \"PUT\", \"DELETE\"],\n",
    "    allow_headers=[\"*\"],\n",
    ")"
   ]
  },
  {
   "cell_type": "markdown",
   "metadata": {
    "id": "X7kOA9CZkM4g"
   },
   "source": [
    "### 1. 모델 불러오기"
   ]
  },
  {
   "cell_type": "code",
   "execution_count": null,
   "metadata": {},
   "outputs": [],
   "source": [
    "# 제품 분류 모델 (CNN)"
   ]
  },
  {
   "cell_type": "code",
   "execution_count": 10,
   "metadata": {},
   "outputs": [],
   "source": [
    "model_path = 'pcb_prod_model_0708.h5'\n",
    "class_path = 'pcb_class_dict_0708.json'\n",
    "\n",
    "pcb_prod_model = PCB_Product_Model.Model_load(model_path, class_path)\n"
   ]
  },
  {
   "cell_type": "code",
   "execution_count": null,
   "metadata": {},
   "outputs": [],
   "source": [
    "# 제품 양불 판정 모델 (YOLO)"
   ]
  },
  {
   "cell_type": "code",
   "execution_count": null,
   "metadata": {},
   "outputs": [],
   "source": [
    "\n",
    "\n",
    "pcb_defect_model = PCB_Defect_Model"
   ]
  },
  {
   "cell_type": "markdown",
   "metadata": {
    "id": "HH9_RewykyM4"
   },
   "source": [
    "### 2. 예측 시뮬레이션"
   ]
  },
  {
   "cell_type": "code",
   "execution_count": 5,
   "metadata": {
    "executionInfo": {
     "elapsed": 341,
     "status": "ok",
     "timestamp": 1720422972709,
     "user": {
      "displayName": "김남현",
      "userId": "10607180765716714100"
     },
     "user_tz": -540
    },
    "id": "q5QWGuajczZH"
   },
   "outputs": [],
   "source": [
    "@app.get(\"/\", response_class=HTMLResponse)\n",
    "async def main():\n",
    "    content = \"\"\"\n",
    "    <!DOCTYPE html>\n",
    "    <html lang=\"en\">\n",
    "    <head>\n",
    "        <meta charset=\"UTF-8\">\n",
    "        <meta name=\"viewport\" content=\"width=device-width, initial-scale=1.0\">\n",
    "        <title>Image Upload</title>\n",
    "        <script src=\"https://code.jquery.com/jquery-3.6.0.min.js\"></script>\n",
    "    </head>\n",
    "    <body>\n",
    "        <h1>Upload an Image</h1>\n",
    "        <form id=\"uploadForm\">\n",
    "            <input type=\"file\" id=\"fileInput\" name=\"file\"><br><br>\n",
    "            <button type=\"button\" id=\"uploadButton\">Upload</button>\n",
    "        </form>\n",
    "        <div id=\"result\"></div>\n",
    "\n",
    "        <script>\n",
    "            $(document).ready(function() {\n",
    "                $('#uploadButton').click(function() {\n",
    "                    var formData = new FormData();\n",
    "                    var fileInput = $('#fileInput')[0];\n",
    "                    if (fileInput.files.length === 0) {\n",
    "                        alert('Please select a file');\n",
    "                        return;\n",
    "                    }\n",
    "\n",
    "                    formData.append('file', fileInput.files[0]);\n",
    "\n",
    "                    $.ajax({\n",
    "                        url: '/predict',\n",
    "                        type: 'POST',\n",
    "                        data: formData,\n",
    "                        contentType: false,\n",
    "                        processData: false,\n",
    "                        success: function(response) {\n",
    "                            console.log(response)\n",
    "                            //$('#result').html('<p>' + response.message + '</p><p>Filename: ' + response.filename + '</p>');\n",
    "                        },\n",
    "                        error: function(response) {\n",
    "                            //$('#result').html('<p>' + response.responseJSON.error + '</p>');\n",
    "                        }\n",
    "                    });\n",
    "                });\n",
    "            });\n",
    "        </script>\n",
    "    </body>\n",
    "    </html>\n",
    "    \"\"\"\n",
    "    return HTMLResponse(content=content)\n",
    "\n",
    "\n",
    "@app.post(\"/predict\")\n",
    "async def upload_image(file: UploadFile = File(...)):\n",
    "\n",
    "    contents = await file.read()\n",
    "\n",
    "    # 이미지 읽기\n",
    "    nparr = np.frombuffer(contents, np.uint8)\n",
    "    img = cv2.imdecode(nparr, cv2.IMREAD_COLOR)\n",
    "    \n",
    "    prod_type = pcb_prod_model.predict_image(False, img)\n",
    "\n",
    "    prod_defect_dict = pcb_defect_model.predict_defect(img)\n",
    "\n",
    "    error_type_list = prod_defect_dict['defect_name_list']\n",
    "    defect_box_list = prod_defect_dict['image']\n",
    "    \n",
    "    # img_str = ndarray_to_base64(defect_image)\n",
    "    \n",
    "    result = {\n",
    "        \"product_type\": prod_type,\n",
    "        \"error_type_list\": error_type_list,\n",
    "        \"image\": defect_box_list\n",
    "    }\n",
    "\n",
    "    return result\n"
   ]
  },
  {
   "cell_type": "markdown",
   "metadata": {
    "id": "GF25nq1yk12s"
   },
   "source": [
    "### 3."
   ]
  },
  {
   "cell_type": "code",
   "execution_count": 6,
   "metadata": {
    "colab": {
     "base_uri": "https://localhost:8080/",
     "height": 553
    },
    "executionInfo": {
     "elapsed": 109256,
     "status": "error",
     "timestamp": 1720423220001,
     "user": {
      "displayName": "김남현",
      "userId": "10607180765716714100"
     },
     "user_tz": -540
    },
    "id": "oFDry0rx2CtP",
    "outputId": "5f17ce84-8bc3-4478-d3d8-e650f299cea9"
   },
   "outputs": [
    {
     "name": "stdout",
     "output_type": "stream",
     "text": [
      "공용 URL https://b8a1-118-34-210-82.ngrok-free.app\n"
     ]
    },
    {
     "name": "stderr",
     "output_type": "stream",
     "text": [
      "INFO:     Started server process [13896]\n",
      "INFO:     Waiting for application startup.\n",
      "INFO:     Application startup complete.\n",
      "INFO:     Uvicorn running on http://127.0.0.1:8000 (Press CTRL+C to quit)\n"
     ]
    },
    {
     "name": "stdout",
     "output_type": "stream",
     "text": [
      "INFO:     27.0.238.70:0 - \"GET /predict HTTP/1.1\" 405 Method Not Allowed\n",
      "INFO:     211.231.103.93:0 - \"GET /predict HTTP/1.1\" 405 Method Not Allowed\n",
      "INFO:     27.0.238.70:0 - \"GET /predict HTTP/1.1\" 405 Method Not Allowed\n",
      "INFO:     211.231.103.91:0 - \"GET /predict HTTP/1.1\" 405 Method Not Allowed\n",
      "INFO:     118.34.210.29:0 - \"POST / HTTP/1.1\" 405 Method Not Allowed\n",
      "1/1 [==============================] - 0s 135ms/step\n",
      "INFO:     118.34.210.25:0 - \"POST /predict HTTP/1.1\" 200 OK\n",
      "1/1 [==============================] - 0s 29ms/step\n",
      "INFO:     118.34.210.25:0 - \"POST /predict HTTP/1.1\" 200 OK\n",
      "1/1 [==============================] - 0s 29ms/step\n",
      "INFO:     118.34.210.29:0 - \"POST /predict HTTP/1.1\" 200 OK\n",
      "1/1 [==============================] - 0s 31ms/step\n",
      "INFO:     118.34.210.25:0 - \"POST /predict HTTP/1.1\" 200 OK\n",
      "1/1 [==============================] - 0s 29ms/step\n",
      "INFO:     118.34.210.25:0 - \"POST /predict HTTP/1.1\" 200 OK\n",
      "1/1 [==============================] - 0s 31ms/step\n",
      "INFO:     118.34.210.25:0 - \"POST /predict HTTP/1.1\" 200 OK\n"
     ]
    },
    {
     "name": "stderr",
     "output_type": "stream",
     "text": [
      "INFO:     Shutting down\n",
      "INFO:     Waiting for application shutdown.\n",
      "INFO:     Application shutdown complete.\n",
      "INFO:     Finished server process [13896]\n"
     ]
    }
   ],
   "source": [
    "# colab 서버 주소는 실행 될 때마다 바뀌기 때문에 ngrok이라는 것을 활용하여서 고정적인 url로 들어올 수 있는 서버를 만들 수 있다. 아래의 코드를 활용하면 된다.\n",
    "\n",
    "import nest_asyncio\n",
    "from pyngrok import ngrok\n",
    "import uvicorn\n",
    "\n",
    "AUTH_TOKEN = \"2hRkhpGbfhVbsBcpYewFZne3I4z_24P9h5EchPjzVTMJe6zEL\"\n",
    "ngrok.set_auth_token(AUTH_TOKEN)\n",
    "ngrokTunnel = ngrok.connect(8000)\n",
    "print(\"공용 URL\", ngrokTunnel.public_url)\n",
    "nest_asyncio.apply()\n",
    "uvicorn.run(app, port=8000)\n",
    "\n"
   ]
  },
  {
   "cell_type": "code",
   "execution_count": null,
   "metadata": {
    "id": "k26xEy3S2oDT"
   },
   "outputs": [],
   "source": []
  }
 ],
 "metadata": {
  "colab": {
   "authorship_tag": "ABX9TyP0VOvgB/vsJ2Q2rSR6/LHn",
   "provenance": [
    {
     "file_id": "1xSt4aprE5SLiMvPQ7-CWSwhxUwNq1F1a",
     "timestamp": 1719990813189
    },
    {
     "file_id": "1vGKCQiUncgJEKWP4TaNHUQr02KMkh_np",
     "timestamp": 1717561575433
    }
   ]
  },
  "kernelspec": {
   "display_name": "Python 3 (ipykernel)",
   "language": "python",
   "name": "python3"
  },
  "language_info": {
   "codemirror_mode": {
    "name": "ipython",
    "version": 3
   },
   "file_extension": ".py",
   "mimetype": "text/x-python",
   "name": "python",
   "nbconvert_exporter": "python",
   "pygments_lexer": "ipython3",
   "version": "3.10.4"
  }
 },
 "nbformat": 4,
 "nbformat_minor": 4
}
