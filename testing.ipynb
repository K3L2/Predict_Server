{
 "cells": [
  {
   "cell_type": "code",
   "execution_count": 20,
   "id": "aba6ab80-4d9b-4ae8-913a-aa5e90195cf1",
   "metadata": {},
   "outputs": [],
   "source": [
    "# 서버 관리용 fastapi 의존 라이브러리\n",
    "import uvicorn\n",
    "\n",
    "# fastapi 라이브러리\n",
    "from fastapi import FastAPI\n",
    "from fastapi.staticfiles import StaticFiles\n",
    "from fastapi import File, UploadFile\n",
    "from fastapi.responses import JSONResponse, HTMLResponse\n",
    "\n",
    "\n",
    "# 인터페이스 데이터 관리를 위한 라이브러리\n",
    "from pydantic import BaseModel\n",
    "\n",
    "# 모델 Load 용 라이브러리\n",
    "import PCB_Product_Model\n",
    "import PCB_Defect_Model\n",
    "\n",
    "# 이미지 웹 서버로 보내주기 위함\n",
    "from PIL import Image\n",
    "import io\n",
    "import base64\n",
    "\n",
    "# 데이터 분석용 라이브러리\n",
    "import pandas as pd\n",
    "import numpy as np\n",
    "import os\n",
    "import cv2\n",
    "from ultralytics import YOLO\n",
    "import matplotlib.pyplot as plt\n",
    "\n",
    "# ngrok을 활용하여 분석서버를 Global하게 띄우기 위한 라이브러리\n",
    "import nest_asyncio\n",
    "from pyngrok import ngrok\n",
    "import uvicorn"
   ]
  },
  {
   "cell_type": "code",
   "execution_count": 21,
   "id": "815ae8c9-843c-4ae7-91df-3ae16cf5646b",
   "metadata": {},
   "outputs": [],
   "source": [
    "# CORS issue 때문에 미들웨어 추가\n",
    "\n",
    "from fastapi.middleware.cors import CORSMiddleware\n",
    "origins = [\"*\"]\n",
    "\n",
    "app = FastAPI(title=\"ML API\")\n",
    "\n",
    "# CORS 미들웨어 추가\n",
    "app.add_middleware(\n",
    "    CORSMiddleware,\n",
    "    allow_origins=[\"*\"],  # 모든 origin 허용\n",
    "    allow_credentials=True,\n",
    "    allow_methods=[\"GET\", \"POST\", \"PUT\", \"DELETE\"],\n",
    "    allow_headers=[\"*\"],\n",
    ")"
   ]
  },
  {
   "cell_type": "code",
   "execution_count": 22,
   "id": "477e09d5-e33f-4a82-9ff2-21255086d184",
   "metadata": {},
   "outputs": [],
   "source": [
    "# 제품 타입 분류"
   ]
  },
  {
   "cell_type": "code",
   "execution_count": 23,
   "id": "e29a8f91-eedf-40be-86f9-57afe95be280",
   "metadata": {},
   "outputs": [],
   "source": [
    "model_path = 'pcb_prod_model_0708.h5'\n",
    "class_path = 'pcb_class_dict_0708.json'\n",
    "\n",
    "pcb_prod_model = PCB_Product_Model.Model_load(model_path, class_path)\n"
   ]
  },
  {
   "cell_type": "code",
   "execution_count": 24,
   "id": "1c20f401-b625-4a12-a1ed-cc3be9787279",
   "metadata": {},
   "outputs": [],
   "source": [
    "# 양불 판정"
   ]
  },
  {
   "cell_type": "code",
   "execution_count": 25,
   "id": "67ccf46d-af22-4b84-9bcb-7175da69330b",
   "metadata": {},
   "outputs": [],
   "source": [
    "model_pt_path = 'best.pt'\n",
    "pcb_defect_model = PCB_Defect_Model.Model_load(model_pt_path)\n",
    "\n"
   ]
  },
  {
   "cell_type": "code",
   "execution_count": 26,
   "id": "960a4cd2-d576-4400-97fe-b2fa85dff7ba",
   "metadata": {},
   "outputs": [],
   "source": [
    "def preprocess_image(image: Image.Image) -> np.ndarray:\n",
    "    # Convert the image to a NumPy array\n",
    "    img_array = np.array(image)\n",
    "    return img_array\n",
    "\n",
    "def ndarray_to_base64(arr: np.ndarray) -> str:\n",
    "    _, buffer = cv2.imencode('.jpg', arr)\n",
    "    img_str = base64.b64encode(buffer).decode('utf-8')\n",
    "    return img_str"
   ]
  },
  {
   "cell_type": "code",
   "execution_count": 28,
   "id": "826b17a6-00f8-4799-a4d7-9dbeb1a75b0f",
   "metadata": {},
   "outputs": [],
   "source": [
    "@app.get(\"/\", response_class=HTMLResponse)\n",
    "async def main():\n",
    "    content = \"\"\"\n",
    "    <!DOCTYPE html>\n",
    "    <html lang=\"en\">\n",
    "    <head>\n",
    "        <meta charset=\"UTF-8\">\n",
    "        <meta name=\"viewport\" content=\"width=device-width, initial-scale=1.0\">\n",
    "        <title>Image Upload</title>\n",
    "        <script src=\"https://code.jquery.com/jquery-3.6.0.min.js\"></script>\n",
    "    </head>\n",
    "    <body>\n",
    "        <h1>Upload an Image</h1>\n",
    "        <form id=\"uploadForm\">\n",
    "            <input type=\"file\" id=\"fileInput\" name=\"file\"><br><br>\n",
    "            <button type=\"button\" id=\"uploadButton\">Upload</button>\n",
    "        </form>\n",
    "        <div id=\"result\"></div>\n",
    "\n",
    "        <script>\n",
    "            $(document).ready(function() {\n",
    "                $('#uploadButton').click(function() {\n",
    "                    var formData = new FormData();\n",
    "                    var fileInput = $('#fileInput')[0];\n",
    "                    if (fileInput.files.length === 0) {\n",
    "                        alert('Please select a file');\n",
    "                        return;\n",
    "                    }\n",
    "\n",
    "                    formData.append('file', fileInput.files[0]);\n",
    "\n",
    "                    $.ajax({\n",
    "                        url: '/predict',\n",
    "                        type: 'POST',\n",
    "                        data: formData,\n",
    "                        contentType: false,\n",
    "                        processData: false,\n",
    "                        success: function(response) {\n",
    "                            console.log(response)\n",
    "                            //$('#result').html('<p>' + response.message + '</p><p>Filename: ' + response.filename + '</p>');\n",
    "                        },\n",
    "                        error: function(response) {\n",
    "                            //$('#result').html('<p>' + response.responseJSON.error + '</p>');\n",
    "                        }\n",
    "                    });\n",
    "                });\n",
    "            });\n",
    "        </script>\n",
    "    </body>\n",
    "    </html>\n",
    "    \"\"\"\n",
    "    return HTMLResponse(content=content)\n",
    "\n",
    "\n",
    "@app.post(\"/predict\")\n",
    "async def upload_image(file: UploadFile = File(...)):\n",
    "\n",
    "    contents = await file.read()\n",
    "\n",
    "    # 이미지 읽기\n",
    "    nparr = np.frombuffer(contents, np.uint8)\n",
    "    img = cv2.imdecode(nparr, cv2.IMREAD_COLOR)\n",
    "    \n",
    "    prod_type = pcb_prod_model.predict_image(False, img)\n",
    "\n",
    "    prod_defect_dict = pcb_defect_model.predict_defect(img)\n",
    "\n",
    "    error_type_list = prod_defect_dict['defect_name_list']\n",
    "    defect_box_list = prod_defect_dict['image']\n",
    "    \n",
    "    # img_str = ndarray_to_base64(defect_image)\n",
    "    \n",
    "    result = {\n",
    "        \"product_type\": prod_type,\n",
    "        \"error_type_list\": error_type_list,\n",
    "        \"image\": defect_box_list\n",
    "    }\n",
    "\n",
    "    return result\n"
   ]
  },
  {
   "cell_type": "code",
   "execution_count": 29,
   "id": "545a80c8-2933-4b21-a4b6-b3f5c9894e5b",
   "metadata": {
    "scrolled": true
   },
   "outputs": [
    {
     "name": "stdout",
     "output_type": "stream",
     "text": [
      "공용 URL https://c30d-118-34-210-82.ngrok-free.app\n"
     ]
    },
    {
     "name": "stderr",
     "output_type": "stream",
     "text": [
      "INFO:     Started server process [31112]\n",
      "INFO:     Waiting for application startup.\n",
      "INFO:     Application startup complete.\n",
      "INFO:     Uvicorn running on http://127.0.0.1:8000 (Press CTRL+C to quit)\n"
     ]
    },
    {
     "name": "stdout",
     "output_type": "stream",
     "text": [
      "INFO:     118.34.210.82:0 - \"GET / HTTP/1.1\" 200 OK\n",
      "INFO:     118.34.210.82:0 - \"GET /favicon.ico HTTP/1.1\" 404 Not Found\n",
      "1/1 [==============================] - 0s 71ms/step\n",
      "\n",
      "0: 352x640 2 shorts, 109.8ms\n",
      "Speed: 3.0ms preprocess, 109.8ms inference, 0.0ms postprocess per image at shape (1, 3, 352, 640)\n",
      "Results saved to \u001b[1mruns\\detect\\predict5\u001b[0m\n",
      "\n",
      "0: 352x640 2 shorts, 114.8ms\n",
      "Speed: 2.2ms preprocess, 114.8ms inference, 0.0ms postprocess per image at shape (1, 3, 352, 640)\n",
      "\n",
      "0: 352x640 2 shorts, 102.8ms\n",
      "Speed: 2.4ms preprocess, 102.8ms inference, 1.0ms postprocess per image at shape (1, 3, 352, 640)\n",
      "INFO:     118.34.210.82:0 - \"POST /predict HTTP/1.1\" 200 OK\n",
      "INFO:     211.231.103.107:0 - \"GET /predict HTTP/1.1\" 405 Method Not Allowed\n",
      "INFO:     211.231.103.94:0 - \"GET /predict HTTP/1.1\" 405 Method Not Allowed\n"
     ]
    },
    {
     "name": "stderr",
     "output_type": "stream",
     "text": [
      "INFO:     Shutting down\n",
      "INFO:     Waiting for application shutdown.\n",
      "INFO:     Application shutdown complete.\n",
      "INFO:     Finished server process [31112]\n",
      "t=2024-07-15T16:35:37+0900 lvl=warn msg=\"failed to open private leg\" id=b7cfc9ad6eb0 privaddr=localhost:8000 err=\"dial tcp [::1]:8000: connectex: No connection could be made because the target machine actively refused it.\"\n",
      "t=2024-07-15T16:41:28+0900 lvl=warn msg=\"failed to open private leg\" id=6e128bdb421a privaddr=localhost:8000 err=\"dial tcp [::1]:8000: connectex: No connection could be made because the target machine actively refused it.\"\n"
     ]
    }
   ],
   "source": [
    "# colab 서버 주소는 실행 될 때마다 바뀌기 때문에 ngrok이라는 것을 활용하여서 고정적인 url로 들어올 수 있는 서버를 만들 수 있다. 아래의 코드를 활용하면 된다.\n",
    "\n",
    "import nest_asyncio\n",
    "from pyngrok import ngrok\n",
    "import uvicorn\n",
    "\n",
    "AUTH_TOKEN = \"2hRkhpGbfhVbsBcpYewFZne3I4z_24P9h5EchPjzVTMJe6zEL\"\n",
    "ngrok.set_auth_token(AUTH_TOKEN)\n",
    "ngrokTunnel = ngrok.connect(8000)\n",
    "print(\"공용 URL\", ngrokTunnel.public_url)\n",
    "nest_asyncio.apply()\n",
    "uvicorn.run(app, port=8000)\n",
    "\n"
   ]
  },
  {
   "cell_type": "code",
   "execution_count": 10,
   "id": "fdda57b1-2b8e-4839-8083-05ebe245586e",
   "metadata": {},
   "outputs": [],
   "source": [
    "imgPath = \"../PCB_DATASET/images/short/01_short_02.jpg\"\n",
    "img = cv2.imread(imgPath)\n"
   ]
  },
  {
   "cell_type": "code",
   "execution_count": 11,
   "id": "ae19274f-7e26-4d89-abd0-d45809347f68",
   "metadata": {},
   "outputs": [
    {
     "name": "stdout",
     "output_type": "stream",
     "text": [
      "\n",
      "0: 352x640 3 shorts, 142.1ms\n",
      "Speed: 3.1ms preprocess, 142.1ms inference, 1.0ms postprocess per image at shape (1, 3, 352, 640)\n",
      "Results saved to \u001b[1mruns\\detect\\predict4\u001b[0m\n",
      "\n",
      "0: 352x640 3 shorts, 99.4ms\n",
      "Speed: 1.0ms preprocess, 99.4ms inference, 0.0ms postprocess per image at shape (1, 3, 352, 640)\n",
      "\n",
      "0: 352x640 3 shorts, 94.1ms\n",
      "Speed: 2.0ms preprocess, 94.1ms inference, 0.0ms postprocess per image at shape (1, 3, 352, 640)\n"
     ]
    }
   ],
   "source": [
    "prod_defect_dict = pcb_defect_model.predict_defect(img)"
   ]
  },
  {
   "cell_type": "code",
   "execution_count": 16,
   "id": "132c8231-d146-4a6f-b6e9-702f84f31009",
   "metadata": {},
   "outputs": [],
   "source": [
    "error_type_list = prod_defect_dict['defect_name_list']\n",
    "defect_image = prod_defect_dict['image']\n",
    "    "
   ]
  },
  {
   "cell_type": "code",
   "execution_count": 17,
   "id": "f4845a7a-b2d7-482d-a888-cadf8638ea09",
   "metadata": {},
   "outputs": [
    {
     "data": {
      "text/plain": [
       "list"
      ]
     },
     "execution_count": 17,
     "metadata": {},
     "output_type": "execute_result"
    }
   ],
   "source": [
    "type(error_type_list)"
   ]
  },
  {
   "cell_type": "code",
   "execution_count": 18,
   "id": "283c12a9-ffd3-4330-b689-754b7f478caf",
   "metadata": {},
   "outputs": [
    {
     "data": {
      "text/plain": [
       "numpy.ndarray"
      ]
     },
     "execution_count": 18,
     "metadata": {},
     "output_type": "execute_result"
    }
   ],
   "source": [
    "type(defect_image)"
   ]
  },
  {
   "cell_type": "code",
   "execution_count": null,
   "id": "04bf59cb-ca68-428d-8166-3107c99c5afd",
   "metadata": {},
   "outputs": [],
   "source": []
  }
 ],
 "metadata": {
  "kernelspec": {
   "display_name": "Python 3 (ipykernel)",
   "language": "python",
   "name": "python3"
  },
  "language_info": {
   "codemirror_mode": {
    "name": "ipython",
    "version": 3
   },
   "file_extension": ".py",
   "mimetype": "text/x-python",
   "name": "python",
   "nbconvert_exporter": "python",
   "pygments_lexer": "ipython3",
   "version": "3.10.4"
  }
 },
 "nbformat": 4,
 "nbformat_minor": 5
}
